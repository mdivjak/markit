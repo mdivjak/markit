{
 "cells": [
  {
   "cell_type": "code",
   "execution_count": 1,
   "metadata": {},
   "outputs": [
    {
     "name": "stderr",
     "output_type": "stream",
     "text": [
      "c:\\Users\\Marko\\AppData\\Local\\Programs\\Python\\Python312\\Lib\\site-packages\\tqdm\\auto.py:21: TqdmWarning: IProgress not found. Please update jupyter and ipywidgets. See https://ipywidgets.readthedocs.io/en/stable/user_install.html\n",
      "  from .autonotebook import tqdm as notebook_tqdm\n"
     ]
    },
    {
     "name": "stdout",
     "output_type": "stream",
     "text": [
      "Detecting scene changes in 'test_files/big_file.mov'...\n"
     ]
    },
    {
     "name": "stderr",
     "output_type": "stream",
     "text": [
      "Failed to decode some frames, results may be inaccurate.\n",
      "Failed to decode some frames, results may be inaccurate.\n",
      "Failed to decode some frames, results may be inaccurate.\n",
      "Failed to decode some frames, results may be inaccurate.\n",
      "Failed to decode some frames, results may be inaccurate.\n",
      "Failed to decode some frames, results may be inaccurate.\n",
      "Failed to decode some frames, results may be inaccurate.\n",
      "Failed to decode some frames, results may be inaccurate.\n",
      "Failed to decode some frames, results may be inaccurate.\n",
      "Failed to decode some frames, results may be inaccurate.\n",
      "Failed to decode some frames, results may be inaccurate.\n",
      "Failed to decode some frames, results may be inaccurate.\n",
      "Failed to decode some frames, results may be inaccurate.\n",
      "Failed to decode some frames, results may be inaccurate.\n",
      "Failed to decode some frames, results may be inaccurate.\n",
      "Failed to decode some frames, results may be inaccurate.\n",
      "Failed to decode some frames, results may be inaccurate.\n",
      "Failed to decode some frames, results may be inaccurate.\n",
      "Failed to decode some frames, results may be inaccurate.\n",
      "Failed to decode some frames, results may be inaccurate.\n",
      "Failed to decode some frames, results may be inaccurate.\n",
      "Failed to decode some frames, results may be inaccurate.\n",
      "Failed to decode some frames, results may be inaccurate.\n",
      "Failed to decode some frames, results may be inaccurate.\n",
      "Failed to decode some frames, results may be inaccurate.\n",
      "Failed to decode some frames, results may be inaccurate.\n",
      "Failed to decode some frames, results may be inaccurate.\n",
      "Failed to decode some frames, results may be inaccurate.\n",
      "Failed to decode some frames, results may be inaccurate.\n",
      "Failed to decode some frames, results may be inaccurate.\n",
      "Failed to decode some frames, results may be inaccurate.\n",
      "Failed to decode some frames, results may be inaccurate.\n"
     ]
    },
    {
     "name": "stdout",
     "output_type": "stream",
     "text": [
      "Finished detecting 539 scenes in 'test_files/big_file.mov'.\n",
      "[0, 685, 1245, 1353, 1383, 1572, 1746, 1771, 1817, 2508, 2925, 3046, 3094, 4364, 4537, 4656, 4715, 4803, 5125, 5501, 6136, 6332, 6468, 6852, 6928, 7070, 7188, 7279, 7508, 8013, 8126, 8353, 8557, 8925, 9069, 9291, 9888, 9981, 10031, 10182, 10378, 10853, 11177, 11423, 11608, 11681, 11846, 12324, 12548, 12861, 12905, 12969, 13024, 13147, 13267, 13420, 13529, 13555, 13610, 13692, 13759, 13806, 13879, 14039, 14059, 14315, 14403, 14474, 14603, 14815, 15087, 15248, 15405, 16006, 16532, 17010, 17116, 17159, 17199, 17475, 17625, 18113, 18738, 18971, 19198, 19348, 19443, 19641, 19788, 19918, 19941, 20061, 20869, 20988, 21046, 21120, 21176, 21478, 21557, 21608, 21665, 21722, 22314, 22393, 22550, 22672, 22764, 23312, 23472, 23711, 23834, 23950, 24075, 24200, 24493, 24802, 24973, 25050, 25088, 25508, 25569, 25731, 25818, 25908, 26033, 26131, 26333, 26579, 26891, 26951, 27025, 27532, 28364, 28700, 28841, 28934, 29014, 29189, 29436, 29896, 29911, 30081, 30310, 31218, 31319, 31558, 31769, 31849, 31909, 31949, 32062, 32215, 32361, 34535, 35544, 35648, 35721, 35873, 36068, 36101, 36223, 36250, 36385, 37098, 37345, 37377, 37423, 37884, 38330, 40176, 41036, 41528, 41791, 41867, 41978, 42134, 42383, 42527, 42682, 42777, 42811, 42860, 43041, 43162, 43239, 43309, 43363, 43427, 43462, 43523, 43561, 43670, 43716, 43772, 43793, 43980, 44877, 45399, 45622, 45827, 45996, 46142, 46303, 46555, 46783, 47177, 47395, 47605, 47799, 47933, 48275, 48492, 48717, 49041, 49344, 49481, 49723, 49911, 50222, 50574, 50735, 51155, 51249, 51446, 51581, 51740, 51873, 52476, 52700, 52974, 53132, 53272, 53373, 53473, 53669, 53789, 53868, 54162, 54294, 54467, 54539, 54724, 54836, 55025, 55322, 55662, 55783, 55932, 56445, 56534, 56592, 56958, 57184, 57478, 57981, 59074, 59265, 59411, 59557, 59822, 59946, 60477, 60561, 60733, 60982, 61101, 61190, 61360, 61422, 61528, 61825, 61991, 62263, 62511, 62925, 63065, 63294, 63436, 63595, 63756, 64174, 64472, 64633, 64723, 64847, 65025, 65125, 66363, 66485, 66937, 66981, 67069, 67099, 67571, 67842, 67908, 67996, 68407, 68469, 68521, 68626, 69749, 69894, 70027, 70175, 70442, 70567, 70679, 70913, 71391, 71693, 71787, 72141, 72248, 72300, 72483, 73187, 73315, 73428, 73620, 74190, 74553, 75019, 75477, 75722, 76451, 76613, 76818, 77760, 78250, 78329, 78925, 80313, 80581, 81243, 81800, 82018, 83072, 83332, 84811, 84929, 85043, 85217, 86010, 86162, 86208, 86266, 86364, 86533, 86638, 86846, 87017, 87407, 87810, 88170, 88243, 88476, 88823, 89653, 89787, 89871, 90395, 91441, 91702, 92216, 92409, 93105, 93223, 93375, 93432, 93625, 93714, 93981, 94849, 95116, 95149, 95187, 96324, 96463, 96990, 97123, 97496, 97663, 99072, 99155, 99691, 99860, 100088, 100728, 101395, 101658, 101902, 102266, 102484, 103202, 103478, 104203, 104457, 104676, 104770, 104911, 104999, 105194, 105257, 105439, 105547, 105663, 105821, 106359, 106490, 107426, 107637, 107729, 107748, 107817, 107835, 108730, 108835, 109342, 109555, 109644, 109706, 109769, 109998, 111555, 111744, 112270, 112346, 112602, 112797, 113074, 113683, 113791, 113976, 114007, 114051, 114120, 114176, 114206, 114246, 114333, 114447, 114622, 114797, 114971, 115166, 115301, 115437, 115916, 116258, 116883, 117622, 117779, 117844, 118224, 118378, 118543, 118822, 118867, 118891, 119004, 119066, 119234, 119405, 119650, 119731, 119865, 120019, 120196, 120238, 120541, 120646, 120826, 120894, 120950, 121016, 121186, 121274, 121455, 121596, 121788, 122347, 122691, 122766, 122925, 123141, 123227, 123330, 123354, 123458, 123724, 124478, 124648, 124788, 124894, 124932, 124988, 125331, 125420, 125453, 125502, 125605, 125673, 125808, 125899, 126382, 126510, 127335, 129289, 129723, 130296, 130870, 130998, 131128, 131509, 131864, 131969, 132122, 132222, 132352, 132520, 132604, 132870, 133169, 133367, 133432, 133916, 134017, 134113, 134219, 134713, 134978, 135082, 135278, 135398, 136120, 136335, 136526, 136814]\n"
     ]
    }
   ],
   "source": [
    "from core.scene_detection import detect_scene_changes\n",
    "\n",
    "# Path to the input video file\n",
    "video_path = 'test_files/big_file.mov'\n",
    "\n",
    "print(f\"Detecting scene changes in '{video_path}'...\")\n",
    "# Call the function to detect scene changes\n",
    "frame_numbers = detect_scene_changes(video_path)\n",
    "\n",
    "print(f\"Finished detecting {len(frame_numbers)} scenes in '{video_path}'.\")\n",
    "\n",
    "print(frame_numbers)\n"
   ]
  },
  {
   "cell_type": "code",
   "execution_count": 7,
   "metadata": {},
   "outputs": [],
   "source": [
    "# Output the frame_numbers array into a file\n",
    "output_file = 'frame_numbers_big_file.txt'\n",
    "with open(output_file, 'w') as f:\n",
    "    for frame in frame_numbers:\n",
    "        f.write(f\"{frame}\\n\")"
   ]
  },
  {
   "cell_type": "code",
   "execution_count": 7,
   "metadata": {},
   "outputs": [
    {
     "name": "stdout",
     "output_type": "stream",
     "text": [
      "[0, 300, 533, 1121, 1778]\n"
     ]
    }
   ],
   "source": [
    "# Read the numbers from 'last_frames.txt' and load them into an array\n",
    "input_file = 'frame_numbers2.txt'\n",
    "loaded_frame_numbers = []\n",
    "\n",
    "with open(input_file, 'r') as f:\n",
    "    for line in f:\n",
    "        loaded_frame_numbers.append(int(line.strip()))\n",
    "\n",
    "print(loaded_frame_numbers)"
   ]
  },
  {
   "cell_type": "code",
   "execution_count": 8,
   "metadata": {},
   "outputs": [
    {
     "name": "stdout",
     "output_type": "stream",
     "text": [
      "MIDI file magla_round_precise.mid created successfully.\n"
     ]
    }
   ],
   "source": [
    "import mido\n",
    "from mido import MetaMessage, MidiFile, MidiTrack\n",
    "\n",
    "\n",
    "tpr = 960 / 25\n",
    "\n",
    "adjusted_frame_numbers = [round(frame * tpr) for frame in loaded_frame_numbers]\n",
    "\n",
    "# Create a new MIDI file and a single track\n",
    "mid = MidiFile(ticks_per_beat=960)\n",
    "track = MidiTrack()\n",
    "mid.tracks.append(track)\n",
    "\n",
    "# Convert BPM to tempo\n",
    "tempo = mido.bpm2tempo(60)\n",
    "\n",
    "# Add tempo and time signature to the track\n",
    "track.append(MetaMessage('set_tempo', tempo=tempo))\n",
    "track.append(MetaMessage('time_signature', numerator=4, denominator=4, clocks_per_click=24, notated_32nd_notes_per_beat=8, time=0))\n",
    "\n",
    "# Add markers at each scene change frame number\n",
    "previous_tick = 0\n",
    "for i, frame in enumerate(adjusted_frame_numbers):\n",
    "    # Calculate the tick difference from the previous frame\n",
    "    if i == 0:\n",
    "        tick_diff = 0\n",
    "    else:\n",
    "        tick_diff = frame - adjusted_frame_numbers[i - 1]\n",
    "    \n",
    "    marker_text = f'SC {i + 1}'  # Custom marker text for each scene\n",
    "    \n",
    "    # Add a marker (meta event) at the scene change time\n",
    "    track.append(MetaMessage('marker', text=marker_text, time=tick_diff))\n",
    "    previous_tick += tick_diff\n",
    "\n",
    "# Save the MIDI file with the provided name\n",
    "mid.save(\"test_output23.mid\")\n",
    "print(f\"MIDI file magla_round_precise.mid created successfully.\")"
   ]
  },
  {
   "cell_type": "code",
   "execution_count": 3,
   "metadata": {},
   "outputs": [
    {
     "name": "stdout",
     "output_type": "stream",
     "text": [
      "FPS of the video: 24.0\n"
     ]
    }
   ],
   "source": [
    "import cv2\n",
    "\n",
    "def get_video_fps(video_path):\n",
    "    # Open the video file\n",
    "    video_capture = cv2.VideoCapture(video_path)\n",
    "    \n",
    "    # Get the FPS (frames per second) of the video\n",
    "    fps = video_capture.get(cv2.CAP_PROP_FPS)\n",
    "    \n",
    "    # Release the video capture object\n",
    "    video_capture.release()\n",
    "    \n",
    "    return fps\n",
    "\n",
    "# Example usage\n",
    "video_path = 'test_files/big_file.mov'\n",
    "fps = get_video_fps(video_path)\n",
    "print(f\"FPS of the video: {fps}\")"
   ]
  }
 ],
 "metadata": {
  "kernelspec": {
   "display_name": "Python 3",
   "language": "python",
   "name": "python3"
  },
  "language_info": {
   "codemirror_mode": {
    "name": "ipython",
    "version": 3
   },
   "file_extension": ".py",
   "mimetype": "text/x-python",
   "name": "python",
   "nbconvert_exporter": "python",
   "pygments_lexer": "ipython3",
   "version": "3.12.4"
  }
 },
 "nbformat": 4,
 "nbformat_minor": 2
}
