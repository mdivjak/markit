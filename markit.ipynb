{
 "cells": [
  {
   "cell_type": "code",
   "execution_count": 2,
   "metadata": {},
   "outputs": [
    {
     "name": "stderr",
     "output_type": "stream",
     "text": [
      "c:\\Users\\Marko\\AppData\\Local\\Programs\\Python\\Python312\\Lib\\site-packages\\tqdm\\auto.py:21: TqdmWarning: IProgress not found. Please update jupyter and ipywidgets. See https://ipywidgets.readthedocs.io/en/stable/user_install.html\n",
      "  from .autonotebook import tqdm as notebook_tqdm\n"
     ]
    }
   ],
   "source": [
    "from scenedetect import VideoManager, SceneManager\n",
    "from scenedetect.detectors import ContentDetector\n",
    "\n",
    "def detect_scene_changes(video_path):\n",
    "    # Initialize video manager and scene manager\n",
    "    video_manager = VideoManager([video_path])\n",
    "    scene_manager = SceneManager()\n",
    "\n",
    "    # Add ContentDetector (content-based scene detection algorithm)\n",
    "    scene_manager.add_detector(ContentDetector())\n",
    "\n",
    "    # Start the video manager\n",
    "    video_manager.start()\n",
    "\n",
    "    # Perform scene detection\n",
    "    scene_manager.detect_scenes(frame_source=video_manager)\n",
    "\n",
    "    # Get list of scene boundaries\n",
    "    scene_list = scene_manager.get_scene_list()\n",
    "\n",
    "    # Extract frame numbers\n",
    "    frame_numbers = [scene[0].get_frames() for scene in scene_list]\n",
    "\n",
    "    # Release resources\n",
    "    video_manager.release()\n",
    "\n",
    "    # Return list of frame numbers\n",
    "    return frame_numbers"
   ]
  },
  {
   "cell_type": "code",
   "execution_count": 3,
   "metadata": {},
   "outputs": [],
   "source": [
    "import mido\n",
    "from mido import MetaMessage, MidiFile, MidiTrack\n",
    "\n",
    "def create_midi_with_markers(frame_numbers, output_filename, fps=25, bpm=60):\n",
    "    # Video properties\n",
    "    ticks_per_beat = 960  # Pro Tools uses 960 ticks per beat\n",
    "    ticks_per_frame = ticks_per_beat / fps  # Ticks per frame\n",
    "\n",
    "    # Create a new MIDI file and a single track\n",
    "    mid = MidiFile(ticks_per_beat=ticks_per_beat)\n",
    "    track = MidiTrack()\n",
    "    mid.tracks.append(track)\n",
    "\n",
    "    # Convert BPM to tempo\n",
    "    tempo = mido.bpm2tempo(bpm)\n",
    "\n",
    "    # Add tempo and time signature to the track\n",
    "    track.append(MetaMessage('set_tempo', tempo=tempo))\n",
    "    track.append(MetaMessage('time_signature', numerator=4, denominator=4, clocks_per_click=24, notated_32nd_notes_per_beat=8, time=0))\n",
    "\n",
    "    # Add markers at each scene change frame number\n",
    "    previous_tick = 0\n",
    "    for i, frame in enumerate(frame_numbers):\n",
    "        # Calculate the tick difference from the previous frame\n",
    "        if i == 0:\n",
    "            tick_diff = 0\n",
    "        else:\n",
    "            tick_diff = int((frame - frame_numbers[i - 1]) * ticks_per_frame)\n",
    "        \n",
    "        marker_text = f'SC {i + 1}'  # Custom marker text for each scene\n",
    "        \n",
    "        # Add a marker (meta event) at the scene change time\n",
    "        track.append(MetaMessage('marker', text=marker_text, time=tick_diff))\n",
    "        previous_tick += tick_diff\n",
    "\n",
    "    # Save the MIDI file with the provided name\n",
    "    mid.save(output_filename)\n",
    "    print(f\"MIDI file '{output_filename}' created successfully.\")"
   ]
  },
  {
   "cell_type": "code",
   "execution_count": 4,
   "metadata": {},
   "outputs": [
    {
     "name": "stderr",
     "output_type": "stream",
     "text": [
      "VideoManager is deprecated and will be removed.\n"
     ]
    },
    {
     "name": "stdout",
     "output_type": "stream",
     "text": [
      "Detecting scene changes in 'bele_rade_1080.mp4'...\n",
      "Finished detecting 5 scenes in 'bele_rade_1080.mp4'.\n",
      "[0, 300, 533, 1121, 1778]\n"
     ]
    }
   ],
   "source": [
    "# Path to the input video file\n",
    "video_path = 'bele_rade_1080.mp4'\n",
    "\n",
    "print(f\"Detecting scene changes in '{video_path}'...\")\n",
    "# Call the function to detect scene changes\n",
    "frame_numbers = detect_scene_changes(video_path)\n",
    "\n",
    "print(f\"Finished detecting {len(frame_numbers)} scenes in '{video_path}'.\")\n",
    "\n",
    "print(frame_numbers)\n",
    "\n",
    "\n",
    "\n",
    "# print(f\"Creating MIDI file with markers for '{video_path}'...\")\n",
    "\n",
    "# output_filename = 'magla_v2.mid'\n",
    "# create_midi_with_markers(frame_numbers, output_filename)"
   ]
  },
  {
   "cell_type": "code",
   "execution_count": 5,
   "metadata": {},
   "outputs": [],
   "source": [
    "# Output the frame_numbers array into a file\n",
    "output_file = 'frame_numbers2.txt'\n",
    "with open(output_file, 'w') as f:\n",
    "    for frame in frame_numbers:\n",
    "        f.write(f\"{frame}\\n\")"
   ]
  },
  {
   "cell_type": "code",
   "execution_count": 7,
   "metadata": {},
   "outputs": [
    {
     "name": "stdout",
     "output_type": "stream",
     "text": [
      "[0, 300, 533, 1121, 1778]\n"
     ]
    }
   ],
   "source": [
    "# Read the numbers from 'last_frames.txt' and load them into an array\n",
    "input_file = 'frame_numbers2.txt'\n",
    "loaded_frame_numbers = []\n",
    "\n",
    "with open(input_file, 'r') as f:\n",
    "    for line in f:\n",
    "        loaded_frame_numbers.append(int(line.strip()))\n",
    "\n",
    "print(loaded_frame_numbers)"
   ]
  },
  {
   "cell_type": "code",
   "execution_count": 8,
   "metadata": {},
   "outputs": [
    {
     "name": "stdout",
     "output_type": "stream",
     "text": [
      "MIDI file magla_round_precise.mid created successfully.\n"
     ]
    }
   ],
   "source": [
    "import mido\n",
    "from mido import MetaMessage, MidiFile, MidiTrack\n",
    "\n",
    "\n",
    "tpr = 960 / 25\n",
    "\n",
    "adjusted_frame_numbers = [round(frame * tpr) for frame in loaded_frame_numbers]\n",
    "\n",
    "# Create a new MIDI file and a single track\n",
    "mid = MidiFile(ticks_per_beat=960)\n",
    "track = MidiTrack()\n",
    "mid.tracks.append(track)\n",
    "\n",
    "# Convert BPM to tempo\n",
    "tempo = mido.bpm2tempo(60)\n",
    "\n",
    "# Add tempo and time signature to the track\n",
    "track.append(MetaMessage('set_tempo', tempo=tempo))\n",
    "track.append(MetaMessage('time_signature', numerator=4, denominator=4, clocks_per_click=24, notated_32nd_notes_per_beat=8, time=0))\n",
    "\n",
    "# Add markers at each scene change frame number\n",
    "previous_tick = 0\n",
    "for i, frame in enumerate(adjusted_frame_numbers):\n",
    "    # Calculate the tick difference from the previous frame\n",
    "    if i == 0:\n",
    "        tick_diff = 0\n",
    "    else:\n",
    "        tick_diff = frame - adjusted_frame_numbers[i - 1]\n",
    "    \n",
    "    marker_text = f'SC {i + 1}'  # Custom marker text for each scene\n",
    "    \n",
    "    # Add a marker (meta event) at the scene change time\n",
    "    track.append(MetaMessage('marker', text=marker_text, time=tick_diff))\n",
    "    previous_tick += tick_diff\n",
    "\n",
    "# Save the MIDI file with the provided name\n",
    "mid.save(\"test_output23.mid\")\n",
    "print(f\"MIDI file magla_round_precise.mid created successfully.\")"
   ]
  },
  {
   "cell_type": "code",
   "execution_count": 5,
   "metadata": {},
   "outputs": [
    {
     "name": "stdout",
     "output_type": "stream",
     "text": [
      "FPS of the video: 25.0\n"
     ]
    }
   ],
   "source": [
    "import cv2\n",
    "\n",
    "def get_video_fps(video_path):\n",
    "    # Open the video file\n",
    "    video_capture = cv2.VideoCapture(video_path)\n",
    "    \n",
    "    # Get the FPS (frames per second) of the video\n",
    "    fps = video_capture.get(cv2.CAP_PROP_FPS)\n",
    "    \n",
    "    # Release the video capture object\n",
    "    video_capture.release()\n",
    "    \n",
    "    return fps\n",
    "\n",
    "# Example usage\n",
    "video_path = 'test_files/magla.mp4'\n",
    "fps = get_video_fps(video_path)\n",
    "print(f\"FPS of the video: {fps}\")"
   ]
  }
 ],
 "metadata": {
  "kernelspec": {
   "display_name": "Python 3",
   "language": "python",
   "name": "python3"
  },
  "language_info": {
   "codemirror_mode": {
    "name": "ipython",
    "version": 3
   },
   "file_extension": ".py",
   "mimetype": "text/x-python",
   "name": "python",
   "nbconvert_exporter": "python",
   "pygments_lexer": "ipython3",
   "version": "3.12.4"
  }
 },
 "nbformat": 4,
 "nbformat_minor": 2
}
